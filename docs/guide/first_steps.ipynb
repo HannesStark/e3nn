{
 "cells": [
  {
   "cell_type": "markdown",
   "metadata": {},
   "source": [
    "# First steps: An overview of E(3) equivariant objects, how to interact them, and build Euclidean neural networks \n",
    "\n",
    "### by Tess Smidt (@blondegeek) and Mario Geiger (@mariogeiger)"
   ]
  },
  {
   "cell_type": "markdown",
   "metadata": {},
   "source": [
    "Welcome to `e3nn`! We are happy you're here and want to help you hit the ground running in using `e3nn` in your projects.\n",
    "\n",
    "The goal of this first part of the User Guide is to give a conceptual framework for understanding `e3nn` and Euclidean neural networks. \n",
    "\n",
    "Euclidean neural networks are a tool to address the question -- suppose I want to train a neural network to do a task on 3D data, but I want it to understand that things \"mean the same thing\" if I change my coordinate system. This is especially important for tasks involving physical systems -- coordinate systems don't exist in the laws of physics, they are simply tools we use for or convenience so we can descibe a physical system e.g. to a computer.\n",
    "\n",
    "We have \"baked-in\" the assumption of Euclidean symmetry of 3D space into all neural network operations using representation theory -- the branch of mathematics that studies how do objects change under group action (in our case 3D rotations, translation, and inversion). Concepts like point groups, space groups, geometric tensors, and selection rules are consequences of representation theory.\n",
    "\n",
    "Because of this, something that is very different about `e3nn` from other neural networks is that `e3nn` operates on very strict data types defined by how they change under rotation and parity. We will go into more details about this in the section on irreducible representations or \"irreps\". \n",
    "\n",
    "All operations in `e3nn` handle tensor field data expressed in terms of irreps of the group of rotations and inversions, $O(3)$. This means that when you initialize modules, the module needs to know not only how many features to expect, but what types of features (e.g. 5 scalars and 7 vectors...).\n",
    "\n",
    "While two objects might have the same irreps, they can be interpretted to mean very different things. For example, a `1o` (vector-like) object can be interpretted as a regular 3D vector or as the coefficients spherical harmonics, signals on a sphere. Keep this freedom of interpretation in mind as we go through examples. For example, spherical harmonics are NOT irreps, but they do transform as irreps.\n",
    "\n",
    "When building `e3nn`, we have focused on providing the most flexible modules for building $E(3)$ equivariant neural network operations. There is still so much to explore in what modules lead to the most easily trainable networks, so we wanted to provide a framework that allows you to most quickly go from an idea to an implementation.\n",
    "\n",
    "However, a flip side of this is that all the nitty-gritty details are exposed, which can at first be a bit overwhelming for the first-time users. Hopefully, this User Guide will help with that. For any questions you have that are not addressed by this User Guide, please create a [GitHub Issue](https://github.com/e3nn/e3nn/issues/new/choose).\n",
    "\n",
    "See you in the next section!"
   ]
  },
  {
   "cell_type": "code",
   "execution_count": null,
   "metadata": {},
   "outputs": [],
   "source": []
  }
 ],
 "metadata": {
  "kernelspec": {
   "display_name": "Python 3",
   "language": "python",
   "name": "python3"
  },
  "language_info": {
   "codemirror_mode": {
    "name": "ipython",
    "version": 3
   },
   "file_extension": ".py",
   "mimetype": "text/x-python",
   "name": "python",
   "nbconvert_exporter": "python",
   "pygments_lexer": "ipython3",
   "version": "3.7.5"
  }
 },
 "nbformat": 4,
 "nbformat_minor": 4
}
